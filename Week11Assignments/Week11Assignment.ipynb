{
 "cells": [
  {
   "cell_type": "markdown",
   "metadata": {},
   "source": [
    "# Week 11 Assignment - Custom Functions and Plotting"
   ]
  },
  {
   "cell_type": "markdown",
   "metadata": {},
   "source": [
    "Write a function that will read in this week's county-level covid data (\"covidData_4.7.20.csv\") and create a line plot showing increases in cumulative case counts or deaths through time for  a particular state. The line plot should have labeled axes and a grid.\n",
    "\n",
    "The function should accept two arguments. The first argument should be the name of the state. The second should indicate whether the user wants to plot case counts or deaths (defaulting to case counts). You will need to write a second function that calculates the case counts per state per day, summing across counties/parishes.\n",
    "\n",
    "As always, remember to document your code, including docstrings for functions.\n",
    "\n",
    "NOTE 1: One thing that tripped me up initially - not all counties/parishes have fips codes in this dataset. So that field may be empty for some lines in the file.\n",
    "\n",
    "NOTE 2: Remember that when you first read from a file, everything is considered a string. To get proper plots, you'll need to convert numbers stored as strings to actual numbers."
   ]
  },
  {
   "cell_type": "code",
   "execution_count": 14,
   "metadata": {},
   "outputs": [],
   "source": [
    "# Load neccesary modules\n",
    "import re\n",
    "import pandas as pd\n",
    "import matplotlib.pyplot as plt"
   ]
  },
  {
   "cell_type": "code",
   "execution_count": 15,
   "metadata": {},
   "outputs": [],
   "source": [
    "def mapState(STATE='Louisiana', COUNTING='cases'):\n",
    "    \"\"\"This function will plot cumulative number number of cases or deaths per state\"\"\"\n",
    "    \"\"\"Arguments: ('1','2') where 1 = State and 2 = cases or deaths\"\"\"\n",
    "    \n",
    "    #Read the database and extract all: 1.dates, 2. number of cases, and 3.number of deaths, from a particular American state     \n",
    "    #By default 'Louisiana'\n",
    "    covid = open('../covidData_4.7.20.csv', 'r')\n",
    "    state = re.findall(r'(.+),.+,{},.*,(.+),(.+)'.format(STATE), covid.read())\n",
    "    covid.close()\n",
    "    #Crate a file with this information\n",
    "    g01 = open('graphState.csv', 'w')\n",
    "    for _ in state:\n",
    "        date = _[0]\n",
    "        cases = _[1]\n",
    "        deaths = _[2]\n",
    "        g01.write('%s,%s,%s' %(date,cases,deaths)+'\\n')\n",
    "    g01.close()\n",
    "    \n",
    "    #Open the file as a dataframe, and sum how many cases and deaths occurred per day. Create a new file with this information\n",
    "    st = pd.read_csv('graphState.csv', header=None)\n",
    "    countDay = st.groupby([0], sort=False).sum()\n",
    "    countDay.to_csv('countDay.csv', header=None)\n",
    "    #With the last file, create a list that includes all dates\n",
    "    cD = open('countDay.csv', 'r')\n",
    "    x = re.findall(r'(.+-.+-.+),.+,.+', cD.read())\n",
    "    cD.close()\n",
    "    #With the last file, create a list that includes all cases per day\n",
    "    cD = open('countDay.csv', 'r')\n",
    "    yCases = re.findall(r'.+,(.+),.+', cD.read())\n",
    "    cD.close()\n",
    "    #With the last file, create a list that includes all deaths per day\n",
    "    cD = open('countDay.csv', 'r')\n",
    "    yDeaths = re.findall(r'.+,.+,(.+)', cD.read())\n",
    "    cD.close()\n",
    "    #In number of cases per day, change string elements (in the list) to digits\n",
    "    yCases2=[]\n",
    "    for _ in yCases:\n",
    "        yy=[]\n",
    "        yy=int(_)\n",
    "        yCases2.append(yy)\n",
    "    #In number of deaths per day, change string elements (in the list) to digits\n",
    "    yDeaths2=[]\n",
    "    for _ in yDeaths:\n",
    "        yy=[]\n",
    "        yy=int(_)\n",
    "        yDeaths2.append(yy)    \n",
    "\n",
    "    #Plot cases number of cases or deaths, according to the second argument typed by user. By default 'cases'\n",
    "    if '{}'.format(COUNTING) == 'cases':        \n",
    "        plt.title('{}'.format(STATE))\n",
    "        plt.xlabel('Date')\n",
    "        plt.xticks(rotation=90)\n",
    "        plt.ylabel('Cases')\n",
    "        plt.plot(x,yCases2)\n",
    "        plt.grid(True)\n",
    "        plt.show()\n",
    "    elif '{}'.format(COUNTING) == 'deaths':        \n",
    "        plt.title('{}'.format(STATE))\n",
    "        plt.xlabel('Date')\n",
    "        plt.xticks(rotation=90)\n",
    "        plt.ylabel('Deaths')\n",
    "        plt.plot(x,yDeaths2)\n",
    "        plt.grid(True)\n",
    "        plt.show()"
   ]
  },
  {
   "cell_type": "code",
   "execution_count": 16,
   "metadata": {
    "scrolled": false
   },
   "outputs": [
    {
     "data": {
      "image/png": "[encoded data removed]",
      "text/plain": [
       "<matplotlib.figure.Figure at 0x7f711ad5fe48>"
      ]
     },
     "metadata": {},
     "output_type": "display_data"
    }
   ],
   "source": [
    "mapState('Louisiana','deaths')"
   ]
  },
  {
   "cell_type": "markdown",
   "metadata": {},
   "source": [
    "Write a second function that is similar to the first, but shows increases in cumulative case counts or deaths through time for a particular county/parish in a particular state.\n",
    "\n",
    "The function should accept three arguments. The first argument should be the name of the county/parish. The second should be the name of the state. The third should indicate whether the user wants to plot case counts or deaths (defaulting to case counts).\n",
    "\n",
    "As always, remember to document your code, including docstrings for functions."
   ]
  },
  {
   "cell_type": "code",
   "execution_count": 17,
   "metadata": {},
   "outputs": [],
   "source": [
    "def mapCounty(COUNTY='East Baton Rouge',STATE='Louisiana', COUNTING='cases'):\n",
    "    \"\"\"This function will plot cumulative number number of cases or deaths per county\"\"\"\n",
    "    \"\"\"Arguments: ('1','2','3') where 1 = County, 2 = State, and 3 = cases or deaths\"\"\"\n",
    "    \n",
    "    #Read the database and extract all: 1.dates, 2. number of cases, and 3.number of deaths, from a particular American county.     \n",
    "    #By default 'East Baton Rouge','Louisiana'\n",
    "    covid = open('../covidData_4.7.20.csv', 'r')\n",
    "    state = re.findall(r'(.+),{},{},.*,(.+),(.+)'.format(COUNTY,STATE), covid.read())\n",
    "    covid.close()\n",
    "    #Crate a file with this information\n",
    "    g01 = open('graphState.csv', 'w')\n",
    "    for _ in state:\n",
    "        date = _[0]\n",
    "        cases = _[1]\n",
    "        deaths = _[2]\n",
    "        g01.write('%s,%s,%s' %(date,cases,deaths)+'\\n')\n",
    "    g01.close()\n",
    "    \n",
    "    #Open the file as a dataframe, and sum how many cases and deaths occurred per day. Create a new file with this information\n",
    "    st = pd.read_csv('graphState.csv', header=None)\n",
    "    countDay = st.groupby([0], sort=False).sum()\n",
    "    countDay.to_csv('countDay.csv', header=None)\n",
    "    #With the last file, create a list that includes all dates\n",
    "    cD = open('countDay.csv', 'r')\n",
    "    x = re.findall(r'(.+-.+-.+),.+,.+', cD.read())\n",
    "    cD.close()\n",
    "    #With the last file, create a list that includes all cases per day\n",
    "    cD = open('countDay.csv', 'r')\n",
    "    yCases = re.findall(r'.+,(.+),.+', cD.read())\n",
    "    cD.close()\n",
    "    #With the last file, create a list that includes all deaths per day\n",
    "    cD = open('countDay.csv', 'r')\n",
    "    yDeaths = re.findall(r'.+,.+,(.+)', cD.read())\n",
    "    cD.close()\n",
    "    #In number of cases per day, change string elements (in the list) to digits\n",
    "    yCases2=[]\n",
    "    for _ in yCases:\n",
    "        yy=[]\n",
    "        yy=int(_)\n",
    "        yCases2.append(yy)\n",
    "    #In number of deaths per day, change string elements (in the list) to digits\n",
    "    yDeaths2=[]\n",
    "    for _ in yDeaths:\n",
    "        yy=[]\n",
    "        yy=int(_)\n",
    "        yDeaths2.append(yy)    \n",
    "\n",
    "    #Plot cases number of cases or deaths, according to the second argument typed by user. By default 'cases'\n",
    "    if '{}'.format(COUNTING) == 'cases':        \n",
    "        plt.title('{} - {}'.format(COUNTY,STATE))\n",
    "        plt.xlabel('Date')\n",
    "        plt.xticks(rotation=90)\n",
    "        plt.ylabel('Cases')\n",
    "        plt.plot(x,yCases2)\n",
    "        plt.grid(True)\n",
    "        plt.show()\n",
    "    elif '{}'.format(COUNTING) == 'deaths':        \n",
    "        plt.title('{} - {}'.format(COUNTY,STATE))\n",
    "        plt.xlabel('Date')\n",
    "        plt.xticks(rotation=90)\n",
    "        plt.ylabel('Deaths')\n",
    "        plt.plot(x,yDeaths2)\n",
    "        plt.grid(True)\n",
    "        plt.show()"
   ]
  },
  {
   "cell_type": "code",
   "execution_count": 18,
   "metadata": {
    "scrolled": true
   },
   "outputs": [
    {
     "data": {
      "image/png": "[encoded data removed]",
      "text/plain": [
       "<matplotlib.figure.Figure at 0x7f711addf128>"
      ]
     },
     "metadata": {},
     "output_type": "display_data"
    }
   ],
   "source": [
    "mapCounty('East Baton Rouge','Louisiana','cases')"
   ]
  }
 ],
 "metadata": {
  "kernelspec": {
   "display_name": "Python 3",
   "language": "python",
   "name": "python3"
  },
  "language_info": {
   "codemirror_mode": {
    "name": "ipython",
    "version": 3
   },
   "file_extension": ".py",
   "mimetype": "text/x-python",
   "name": "python",
   "nbconvert_exporter": "python",
   "pygments_lexer": "ipython3",
   "version": "3.6.4"
  }
 },
 "nbformat": 4,
 "nbformat_minor": 4
}
